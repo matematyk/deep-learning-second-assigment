{
  "nbformat": 4,
  "nbformat_minor": 0,
  "metadata": {
    "colab": {
      "name": "GSN 2020/21 Assignment 2: RetinaMNIST",
      "provenance": [],
      "collapsed_sections": []
    },
    "kernelspec": {
      "name": "python3",
      "display_name": "Python 3"
    },
    "language_info": {
      "name": "python"
    }
  },
  "cells": [
    {
      "cell_type": "markdown",
      "metadata": {
        "id": "6VBJpAMzglRo"
      },
      "source": [
        "# RetinaMNIST\n",
        "\n",
        "In this exercise your goal will be to solve an object detection training and prediction task using the anchor-based approach.\n",
        "**As a part of your solution you should provide a report summarizing your findings and results of the conducted experiments.**\n",
        "\n",
        "##TLDR; overview\n",
        "\n",
        "In this task one should:\n",
        "- determine the size of the feasible anchors for the object detection task posed in this Assignment,\n",
        "- build an object detection model using the variant of `RetinaNet`,\n",
        "- prepare a matching suite which will match predicted anchors with ground truth bounding boxes,\n",
        "- train an object detection model using a variant of `RetinaLoss`.\n",
        "\n",
        "Hints and comments:\n",
        "\n",
        "- Model architecture and loss are heavily inspired by [RetinaNet](https://arxiv.org/pdf/1708.02002.pdf) paper,\n",
        "- you can freely subclass and extend the interface of classes in this exercise,\n",
        "- be sure that you understand the concept of an anchor for object detection, covered during Lecture 8. There are many great tutorials and articles about it (e.g. [this](https://towardsdatascience.com/anchor-boxes-the-key-to-quality-object-detection-ddf9d612d4f9) one, note however that we are not implementing ignoring boxes for simplicity).\n",
        "\n",
        "### Data description\n",
        "\n",
        "In this task we will paste bounding boxes with digits randomly selected from `MNIST` dataset on a canvas of size `(128, 128)`. We assume that:\n",
        "\n",
        "- the two boxes from a canvas should have no more than `0.1` of `iou` overlap,\n",
        "- the digits are fully contained in canvas,\n",
        "- boxes are modeled using `MnistBox` class,\n",
        "- canvas is modeled using `MnistCanvas` class.\n",
        "\n",
        "Let us have a look at definition of these classes:"
      ]
    },
    {
      "cell_type": "code",
      "metadata": {
        "id": "L1rAdIiRq2G8"
      },
      "source": [
        "from typing import List\n",
        "from typing import Optional\n",
        "from typing import Tuple\n",
        "\n",
        "import matplotlib.pyplot as plt\n",
        "import matplotlib.patches as patches\n",
        "import numpy as np\n",
        "import torch\n",
        "\n",
        "\n",
        "DEVICE = torch.device('cuda' if torch.cuda.is_available() else 'cpu')\n",
        "\n",
        "class MnistBox:\n",
        "\n",
        "    def __init__(\n",
        "        self,\n",
        "        x_min: int,\n",
        "        y_min: int,\n",
        "        x_max: int,\n",
        "        y_max: int,\n",
        "        class_nb: Optional[int] = None,\n",
        "    ):\n",
        "        self.x_min = x_min\n",
        "        self.x_max = x_max\n",
        "        self.y_min = y_min\n",
        "        self.y_max = y_max\n",
        "        self.class_nb = class_nb\n",
        "    \n",
        "    @property\n",
        "    def x_diff(self):\n",
        "        return self.x_max - self.x_min\n",
        "    \n",
        "    @property\n",
        "    def y_diff(self):\n",
        "        return self.y_max - self.y_min\n",
        "\n",
        "    def __repr__(self):\n",
        "        return f'Mnist Box: x_min = {self.x_min},' +\\\n",
        "               f' x_max = {self.x_max}, y_min = {self.y_min},' +\\\n",
        "               f' y_max = {self.y_max}. Class = {self.class_nb}'\n",
        "\n",
        "    def plot_on_ax(self, ax, color: Optional[str] = 'r'):\n",
        "        ax.add_patch(\n",
        "            patches.Rectangle(\n",
        "                (self.y_min, self.x_min),\n",
        "                 self.y_diff,\n",
        "                 self.x_diff,\n",
        "                 linewidth=1,\n",
        "                 edgecolor=color,\n",
        "                 facecolor='none',\n",
        "            )\n",
        "        )\n",
        "        ax.text(\n",
        "            self.y_min,\n",
        "            self.x_min,\n",
        "            str(self.class_nb),\n",
        "            bbox={\"facecolor\": color, \"alpha\": 0.4},\n",
        "            clip_box=ax.clipbox,\n",
        "            clip_on=True,\n",
        "        )\n",
        "\n",
        "    @property\n",
        "    def area(self):\n",
        "        return max((self.x_max - self.x_min), 0) * max((self.y_max - self.y_min), 0)\n",
        "\n",
        "    def iou_with(self, other_box: \"MnistBox\"):\n",
        "        aux_box = MnistBox(\n",
        "            x_min=max(self.x_min, other_box.x_min),\n",
        "            x_max=min(self.x_max, other_box.x_max),\n",
        "            y_min=max(self.y_min, other_box.y_min),\n",
        "            y_max=min(self.y_max, other_box.y_max),\n",
        "        ) \n",
        "        return aux_box.area / (self.area + other_box.area - aux_box.area)\n",
        "\n",
        "\n",
        "class MnistCanvas:\n",
        "\n",
        "    def __init__(\n",
        "        self,\n",
        "        image: np.ndarray,\n",
        "        boxes: List[MnistBox],\n",
        "    ):\n",
        "        self.image = image\n",
        "        self.boxes = boxes\n",
        "\n",
        "    def add_digit(\n",
        "        self,\n",
        "        digit: np.ndarray,\n",
        "        class_nb: int,\n",
        "        x_min: int,\n",
        "        y_min: int,\n",
        "        iou_threshold=0.1,\n",
        "    ) -> bool:\n",
        "        \"\"\"\n",
        "        Add a digit to an image if it does not overlap with existing boxes\n",
        "        above iou_threshold.\n",
        "        \"\"\"\n",
        "        image_x, image_y = digit.shape\n",
        "        if x_min >= self.image.shape[0] and y_min >= self.image.shape[1]:\n",
        "            raise ValueError('Wrong initial corner box')\n",
        "        new_box_x_min = x_min\n",
        "        new_box_y_min = y_min\n",
        "        new_box_x_max = min(x_min + image_x, self.image.shape[0])\n",
        "        new_box_y_max = min(y_min + image_y, self.image.shape[1])\n",
        "        new_box = MnistBox(\n",
        "            x_min=new_box_x_min,\n",
        "            x_max=new_box_x_max,\n",
        "            y_min=new_box_y_min,\n",
        "            y_max=new_box_y_max,\n",
        "           class_nb=class_nb,\n",
        "        )\n",
        "        old_background = self.image[\n",
        "            new_box_x_min:new_box_x_max,\n",
        "            new_box_y_min:new_box_y_max\n",
        "        ]\n",
        "        for box in self.boxes:\n",
        "            if new_box.iou_with(box) > iou_threshold:\n",
        "                return False\n",
        "        self.image[\n",
        "            new_box_x_min:new_box_x_max,\n",
        "            new_box_y_min:new_box_y_max\n",
        "        ] = np.maximum(old_background, digit)\n",
        "        self.boxes.append(\n",
        "            new_box\n",
        "        ) \n",
        "        return True\n",
        "        \n",
        "    def get_torch_tensor(self) -> torch.Tensor:\n",
        "        np_image = self.image.astype('float32')\n",
        "        np_image = np_image.reshape(\n",
        "            (1, 1, self.image.shape[0], self.image.shape[1])\n",
        "        )\n",
        "        return torch.from_numpy(np_image).to(DEVICE)\n",
        "\n",
        "    @classmethod\n",
        "    def get_empty_of_size(cls, size: Tuple[int, int]):\n",
        "        return cls(\n",
        "            image=np.zeros(size),\n",
        "            boxes=[],\n",
        "        )\n",
        "\n",
        "    def plot(self, boxes: Optional[List[MnistBox]] = None):\n",
        "        fig, ax = plt.subplots()\n",
        "        ax.imshow(self.image)\n",
        "        boxes = boxes or self.boxes\n",
        "        for box in boxes:\n",
        "            box.plot_on_ax(ax)\n",
        "        plt.show()"
      ],
      "execution_count": null,
      "outputs": []
    },
    {
      "cell_type": "markdown",
      "metadata": {
        "id": "NWMxgsgFtlze"
      },
      "source": [
        "Each canvas has 3-6 boxes with randomly selected digits. The digits for training data are from first 10K examples from `MNIST` train data. The digits for test data are selected from first 1K examples from `MNIST` test data. The Dataset is generated using the following functions:"
      ]
    },
    {
      "cell_type": "code",
      "metadata": {
        "id": "HezSZXw4z-cx"
      },
      "source": [
        "from keras.datasets import mnist\n",
        "import numpy as np\n",
        "\n",
        "\n",
        "mnist_data = mnist.load_data()\n",
        "(mnist_x_train, mnist_y_train), (mnist_x_test, mnist_y_test) = mnist_data\n",
        "\n",
        "\n",
        "def crop_insignificant_values(digit:np.ndarray, threshold=0.1):\n",
        "    bool_digit = digit > threshold\n",
        "    x_range = bool_digit.max(axis=0)\n",
        "    y_range = bool_digit.max(axis=1)\n",
        "    start_x = (x_range.cumsum() == 0).sum()\n",
        "    end_x = (x_range[::-1].cumsum() == 0).sum()\n",
        "    start_y = (y_range.cumsum() == 0).sum()\n",
        "    end_y = (y_range[::-1].cumsum() == 0).sum()\n",
        "    return digit[start_y:-end_y - 1, start_x:-end_x - 1]\n",
        "\n",
        "\n",
        "TRAIN_DIGITS = [\n",
        "    crop_insignificant_values(digit) / 255.0\n",
        "    for digit_index, digit in enumerate(mnist_x_train[:10000])\n",
        "]\n",
        "TRAIN_CLASSES = mnist_y_train[:10000]\n",
        "\n",
        "TEST_DIGITS = [\n",
        "    crop_insignificant_values(digit) / 255.0\n",
        "    for digit_index, digit in enumerate(mnist_x_test[:1000])\n",
        "]\n",
        "TEST_CLASSES = mnist_y_test[:1000]\n",
        "\n",
        "\n",
        "def get_random_canvas(\n",
        "    digits: Optional[List[np.ndarray]] = None,\n",
        "    classes: Optional[List[int]] = None,\n",
        "    nb_of_digits: Optional[int] = None,\n",
        "    ):\n",
        "    digits = digits if digits is not None else TRAIN_DIGITS\n",
        "    classes = classes if classes is not None else TRAIN_CLASSES\n",
        "    nb_of_digits = nb_of_digits if nb_of_digits is not None else np.random.randint(low=3, high=6 + 1)\n",
        "\n",
        "    new_canvas = MnistCanvas.get_empty_of_size(size=(128, 128))\n",
        "    attempts_done = 0\n",
        "    while attempts_done < nb_of_digits:\n",
        "        current_digit_index = np.random.randint(len(digits))\n",
        "        current_digit = digits[current_digit_index]\n",
        "        random_x_min = np.random.randint(0, 128 - current_digit.shape[0] - 3)\n",
        "        random_y_min = np.random.randint(0, 128 - current_digit.shape[1] - 3)\n",
        "        if new_canvas.add_digit(\n",
        "            digit=current_digit,\n",
        "            x_min=random_x_min,\n",
        "            y_min=random_y_min,\n",
        "            class_nb=classes[current_digit_index],\n",
        "        ):\n",
        "            attempts_done += 1\n",
        "    return new_canvas"
      ],
      "execution_count": null,
      "outputs": []
    },
    {
      "cell_type": "markdown",
      "metadata": {
        "id": "5i2OjUEC7eaC"
      },
      "source": [
        "Let us have a look at example canvas:"
      ]
    },
    {
      "cell_type": "code",
      "metadata": {
        "id": "OsLpINOtvhd8",
        "colab": {
          "base_uri": "https://localhost:8080/",
          "height": 268
        },
        "outputId": "d567435d-f8b3-4099-ac3a-93bc5be5f4e3"
      },
      "source": [
        "mnist_canvas = get_random_canvas()\n",
        "mnist_canvas.plot()"
      ],
      "execution_count": null,
      "outputs": [
        {
          "output_type": "display_data",
          "data": {
            "image/png": "[encoded data removed]",
            "text/plain": [
              "<Figure size 432x288 with 1 Axes>"
            ]
          },
          "metadata": {
            "tags": [],
            "needs_background": "light"
          }
        }
      ]
    },
    {
      "cell_type": "markdown",
      "metadata": {
        "id": "4QkpHGiOCnng"
      },
      "source": [
        "Now - let us generate test canvas:"
      ]
    },
    {
      "cell_type": "code",
      "metadata": {
        "id": "PV410KSYC-eT",
        "colab": {
          "base_uri": "https://localhost:8080/",
          "height": 268
        },
        "outputId": "ca08353f-4ea3-4fbe-fdcf-8213481027b8"
      },
      "source": [
        "TEST_CANVAS_SIZE = 256\n",
        "TEST_SEED = 42 # DO NOT CHANGE THIS LINE.\n",
        "\n",
        "np.random.seed(TEST_SEED)\n",
        "\n",
        "TEST_CANVAS = [\n",
        "    get_random_canvas(\n",
        "        digits=TEST_DIGITS,\n",
        "        classes=TEST_CLASSES,\n",
        "    )\n",
        "    for _ in range(TEST_CANVAS_SIZE)\n",
        "]\n",
        "\n",
        "TEST_CANVAS[0].plot()"
      ],
      "execution_count": null,
      "outputs": [
        {
          "output_type": "display_data",
          "data": {
            "image/png": "[encoded data removed]",
            "text/plain": [
              "<Figure size 432x288 with 1 Axes>"
            ]
          },
          "metadata": {
            "tags": [],
            "needs_background": "light"
          }
        }
      ]
    },
    {
      "cell_type": "markdown",
      "metadata": {
        "id": "OgU2bKyJ3pVh"
      },
      "source": [
        "For training one can either:\n",
        "- generate `TRAIN_CANVAS` similarly to `TEST_CANVAS` creation,\n",
        "- use the fact that `get_random_canvas()` generates a random train canvas and generate training data on-the-fly."
      ]
    },
    {
      "cell_type": "markdown",
      "metadata": {
        "id": "Ri3Jh7GzjZ4W"
      },
      "source": [
        "### Anchor size analysis (0.5pts)\n",
        "\n",
        "For this task:\n",
        "1. Sample at least 1000 random canvas.\n",
        "2. Analyze the sizes (heights and widths) of the `MnistBox`es from this canvas.\n",
        "3. Select the anchor sizes which will match the problem the best.\n",
        "\n",
        "Selected anchor sizes should be stored in a sensible manner in `ANCHOR_SIZES` list."
      ]
    },
    {
      "cell_type": "code",
      "metadata": {
        "id": "KWLTAoFwkEnu"
      },
      "source": [
        "# TODO\n",
        "\n",
        "ANCHOR_SIZES = []"
      ],
      "execution_count": null,
      "outputs": []
    },
    {
      "cell_type": "markdown",
      "metadata": {
        "id": "_GpJZUkDGJSi"
      },
      "source": [
        "### Model building (1pt)\n",
        "\n",
        "\n",
        "One should build a model for digit detection in $\\texttt{pytorch}$. Model should consist of:\n",
        "\n",
        "#### $\\texttt{backbone}$:\n",
        "\n",
        "Backbone model should accept a `MnistCanvas` instance and output a tensor with shape $(1, \\frac{128}{2^k}, \\frac{128}{2^k}, filters)$ where $k \\in {2, 3, 4}$ and $filters$ should be selected by student. We will later relate to selected $k$ as a stride. You can use a pretrained backbone.\n",
        "\n",
        "#### $\\texttt{anchors}$:\n",
        "\n",
        "List of `MnistBox`es where each box:\n",
        "\n",
        "- should have size of one of selected `ANCHOR_SIZES`,\n",
        "- should have center coordinates on canvas of type $\\left(\\left(m + \\frac{1}{2}\\right) * 2^k, \\left(n + \\frac{1}{2}\\right) * 2^k\\right)$  for $m, n \\in \\{0, 1, \\dots, \\frac{128}{2^k} - 1\\}$.\n",
        "\n",
        "`MnistBox` with anchor should have an attribute `class_nb` set to `None`.\n",
        "\n",
        "#### $\\texttt{classificationHead}$:\n",
        "\n",
        "$\\texttt{classificationHead}$ should accept backbone output as an input and output `classification_output` tensor of shape $(len(\\texttt{anchors)}, 10)$ where the value $ch_{i, j}$ which is the value of i-th row and j-th column has a property that $sigmoid(ch_{i, j})$ is a probability that i-th anchor from $\\texttt{anchors}$ overlaps significantly with some canvas `GTBox: MnistBox` with a digit of class $j$(ground truth box).\n",
        "\n",
        "#### $\\texttt{boxRegressionHead}$:\n",
        "\n",
        "$\\texttt{boxRegressionHead}$ should accept backbone output as an input and output `box_regression_output` tensor of shape $(len(\\texttt{anchors)}, 4)$ where the value $br_{i}$ which is the value of i-th row has a property that if there is a ground truth digit box $\\texttt{GTBox}$ - significantly overlapping with $\\texttt{anchor}[i]$ then the following properties hold:\n",
        "\n",
        "$$\\texttt{GTBox.x_min} = \\texttt{anchor[i].x_min} + br_{i, 0},$$ \n",
        "$$\\texttt{GTBox.x_max} = \\texttt{anchor[i].x_max} + br_{i, 1},$$ \n",
        "$$\\texttt{GTBox.y_min} = \\texttt{anchor[i].y_min} + br_{i, 2},$$ \n",
        "$$\\texttt{GTBox.y_max} = \\texttt{anchor[i].y_max} + br_{i, 3}.$$ \n",
        "\n",
        "### Model output\n",
        "\n",
        "Model should output `DigitDetectionModelOutput` class defined below.\n",
        "\n",
        "#### Comment on _significant overlap_:\n",
        "\n",
        "The meaning of significant overlap will be described later."
      ]
    },
    {
      "cell_type": "code",
      "metadata": {
        "id": "kXco8riNGHhl"
      },
      "source": [
        "class DigitDetectionModelOutput:\n",
        "\n",
        "    def __init__(\n",
        "        self,\n",
        "        anchors: List[MnistBox],\n",
        "        classification_output: torch.Tensor,\n",
        "        box_regression_output: torch.Tensor,\n",
        "    ):\n",
        "        self.anchors = anchors\n",
        "        self.classification_output = classification_output\n",
        "        self.box_regression_output = box_regression_output\n",
        "\n",
        "\n",
        "class DigitDetectionModel(torch.nn.Module):\n",
        "    # Should use ANCORS_SIZES\n",
        "    def __init__(\n",
        "        self,\n",
        "    ):\n",
        "         super().__init__()\n",
        "         # TODO\n",
        "\n",
        "    def forward(self, x: MnistCanvas) -> DigitDetectionModelOutput:\n",
        "        # Note that this is defined for a single MnistCanvas\n",
        "        raise NotImplementedError"
      ],
      "execution_count": null,
      "outputs": []
    },
    {
      "cell_type": "markdown",
      "metadata": {
        "id": "hnZu3sdhTfTJ"
      },
      "source": [
        "### Significant overlap (1pt)\n",
        "\n",
        "In order to manage definition of a _significant overlap_ student should implement the `TargetDecoder`. `TargetDecoder` have two methods:\n",
        "\n",
        "### - `get_targets`\n",
        "\n",
        "This method accepts a `canvas: MnistCanvas` with boxes later refered to as `gt_boxes: List[MnistBox]`, `anchors: List[MnistBox]` of model anchors and `iou_threshold: float`. Its output should be `DigitDetectionModelTarget` instance with the following attributes:\n",
        "\n",
        "- `classification_target` - a tensor of shape $(len(anchors), 10)$,\n",
        "- `box_regression_target` - a tensor of shape $(len(anchors), 4)$,\n",
        "- `matched_anchors` - a list of indices anchors matched (see definition below).\n",
        "\n",
        "The output attributes should be computed in a following manner: \n",
        "\n",
        "1. All of the outputs of the output tensors should be `0` except the case presented in the point 2.\n",
        "1. if for anchor `anchors[i]` there exist at least one `gt_box` from `gt_boxes` with `iou` overlap greater than `iou_threshold` then let `gt_best` be the one with the greatest `iou` overlap (ties resolved randomly). Then `box_regression_target` should encode the bounding box correction, namely:\n",
        "\n",
        "$$\\texttt{box_regression_target}[i, 0] = \\texttt{gt_best.x_min} - \\texttt{anchor[i].x_min}$$ \n",
        "$$\\texttt{box_regression_target}[i, 1] = \\texttt{gt_best.x_max} - \\texttt{anchor[i].x_max}$$ \n",
        "$$\\texttt{box_regression_target}[i, 2] = \\texttt{gt_best.y_min} - \\texttt{anchor[i].y_min}$$ \n",
        "$$\\texttt{box_regression_target}[i, 3] = \\texttt{gt_best.y_max} - \\texttt{anchor[i].y_max}$$,\n",
        "\n",
        "and `classification_target` should encode the class of matched `gt_best`, namely:\n",
        "\n",
        "$$\\texttt{class_targets}[i, \\texttt{gt_best.class_nb}] = 1.$$\n",
        "\n",
        "Moreover - the `anchor[i]` is considered to be _matched_ with some ground truth box so index `i` should be in `matched_anchors` list.\n",
        "\n",
        "The output should be packed into `DigitDetectionModelTarget` class defined below.\n",
        "\n",
        "_Hint_: note that there might be cases when no anchor is matched. What does it mean about your anchors?\n",
        "\n",
        "### - `get_predictions`\n",
        "\n",
        "This method should decode the `DigitDetectionModelOutput` to set of final boxes\n",
        "predictions. We leave the way of selecting the predictions to students.\n",
        "\n",
        "_HINT_: we definitely advise to use `torchvision.ops.nms` function.\n",
        "\n"
      ]
    },
    {
      "cell_type": "code",
      "metadata": {
        "id": "WWcthFZQquNo"
      },
      "source": [
        "class DigitDetectionModelTarget:\n",
        "\n",
        "    def __init__(\n",
        "        self,\n",
        "        classification_target: torch.Tensor,\n",
        "        box_regression_target: torch.Tensor,\n",
        "        matched_anchors: List[int],\n",
        "    ):\n",
        "        self.classification_target = classification_target\n",
        "        self.box_regression_target = box_regression_target\n",
        "        self.matched_anchors = matched_anchors\n",
        "\n",
        "\n",
        "class TargetDecoder:\n",
        "\n",
        "    def get_targets(\n",
        "        self,\n",
        "        canvas: MnistCanvas,\n",
        "        anchors: List[MnistBox],\n",
        "        iou_threshold: float=0.5,\n",
        "        nb_of_classes: int = 10,\n",
        "    ) -> DigitDetectionModelTarget:\n",
        "        raise NotImplementedError\n",
        "                        \n",
        "\n",
        "    def get_predictions(\n",
        "        self,\n",
        "        model_output: DigitDetectionModelOutput,\n",
        "    ) -> List[MnistBox]:\n",
        "        raise NotImplementedError"
      ],
      "execution_count": null,
      "outputs": []
    },
    {
      "cell_type": "markdown",
      "metadata": {
        "id": "xA1Nvz6jagyP"
      },
      "source": [
        "### Metrics (0.5pt)\n",
        "\n",
        "## Retina Loss\n",
        "As a loss function one should implement the variant of Retina Loss. It should be computed in a following manner:\n",
        "\n",
        "`compute_loss`: \n",
        "\n",
        "This method accepts:\n",
        "- `DigitDetectionModelTarget`,\n",
        "- `DigitDetectionModelOutput`,\n",
        "\n",
        "and computes a loss which is a sum of a:\n",
        "- `torch.nn.SmoothL1Loss` between boxes predictions and targets averaged only over matched anchors,\n",
        "- `torchvision.ops.sigmoid_focal_loss` between classes predictions and targets averaged only over matched anchors.\n",
        "\n",
        "One can either use `torch` default parameters for this losses or try to tune them.\n",
        "\n",
        "If there are no matched anchors - a loss should return `None`. Remember to handle this case separately in your training loop. What does the occurence of this case means about your anchors?\n",
        "\n",
        "## Digit Accuracy\n",
        "\n",
        "This method shoud accept `canvas: MnistCanvas` and `predicted_boxes: List[MnistBox]` obtained using `TargetDecoder.get_predictions` method and output whether there is a direct matching between boxes from `MnistCanvas` and predictions. There is a direct matching if:\n",
        "\n",
        "- for all boxes from `canvas`, there exist precisely one box from `predicted_boxes` with a matching class and `iou` overlap greater than `0.5`,\n",
        "- the number of `canvas` boxes match `len(predicted_boxes)`.\n",
        "\n",
        "The model shoud output `1` if there is a matching and `0` otherwise.\n"
      ]
    },
    {
      "cell_type": "code",
      "metadata": {
        "id": "rffXn9CQwVu4"
      },
      "source": [
        "import torch\n",
        "import torchvision \n",
        "\n",
        "\n",
        "class RetinaLoss:\n",
        "\n",
        "    def compute_loss(\n",
        "        self,\n",
        "        model_output: DigitDetectionModelOutput,\n",
        "        model_target: DigitDetectionModelTarget,\n",
        "    ) -> Optional[torch.Tensor]: \n",
        "        raise NotImplementedError \n",
        "\n",
        "\n",
        "class DigitAccuracy:\n",
        "\n",
        "    def compute_metric(\n",
        "        self,\n",
        "        predicted_boxes: List[MnistBox],\n",
        "        canvas: MnistCanvas,\n",
        "    ):\n",
        "        raise NotImplementedError"
      ],
      "execution_count": null,
      "outputs": []
    },
    {
      "cell_type": "markdown",
      "metadata": {
        "id": "15n5w-hhvRbS"
      },
      "source": [
        "### Train your model (1pt)\n",
        "\n",
        "One should use all classes defined above to train the model.\n",
        "\n",
        "A passing threshold is `10%` of a `DigitAccuracy` on a `TEST_CANVAS` data.\n",
        "\n",
        "Plot example results of matched and mismatched predictions (0.5pt).\n",
        "\n",
        "_Hint:_ note that all classes defined above accept only a single canvas as their inputs. Can we extend a training loop to use it for a training on batches?\n",
        "\n",
        "Have fun!"
      ]
    },
    {
      "cell_type": "code",
      "metadata": {
        "id": "KNXjlEhMydhB"
      },
      "source": [
        ""
      ],
      "execution_count": null,
      "outputs": []
    }
  ]
}